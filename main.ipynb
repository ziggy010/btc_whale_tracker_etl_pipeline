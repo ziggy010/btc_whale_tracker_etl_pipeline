{
 "cells": [
  {
   "cell_type": "code",
   "execution_count": 8,
   "metadata": {},
   "outputs": [],
   "source": [
    "import requests;\n",
    "from datetime import datetime;\n",
    "import pandas as pd;\n",
    "pd.set_option('display.width', 1000);"
   ]
  },
  {
   "cell_type": "code",
   "execution_count": 6,
   "metadata": {},
   "outputs": [],
   "source": [
    "url = 'https://blockchain.info/latestblock';\n",
    "latest_hash = requests.get(url).json()['hash'];\n",
    "block_url = f'https://blockchain.info/rawblock/{latest_hash}';\n",
    "block_data = requests.get(block_url).json();"
   ]
  },
  {
   "cell_type": "code",
   "execution_count": 16,
   "metadata": {},
   "outputs": [
    {
     "name": "stdout",
     "output_type": "stream",
     "text": [
      "                                            txn_hash                                 from_wallet                                   to_wallet     amount            datetime\n",
      "0  1593e671c41e7ccaf2c66ad89bcad1424f10d3a96e25ba...          1GrwDkr33gT6LuumniYjKEGjTLhsL5kmqC  bc1qfl9q4xcg6rh7p7vdeaku287u4lqxhd9ud9f43v  25.120351 2025-03-22 13:39:05\n",
      "1  41087447a8e01dfa9469272b25ab02d3af2f3cd73f6e5b...  bc1qm34lsc65zpw79lxes69zkqmk6ee3ewf0j77s3h          34kcmp7ttt7EYNFVUFe3HYjYLoTtCpVsfU  57.489817 2025-03-22 13:39:05\n",
      "2  18e9f8c66a83dd91b4809e91422b675b3feae8a2edb829...  bc1qm34lsc65zpw79lxes69zkqmk6ee3ewf0j77s3h  bc1quf2u7kagkk5tesxrtap9hz9ymuvdlay6z7a56f  64.317825 2025-03-22 13:39:05\n",
      "3  fa07485e000070832f46b98d9e92f42aecbea9c89ce50f...  bc1q89vsdpdjntzqm6g06p9el3808l9ezeqetdgqqg  bc1q47pfu4ymsdpjranzucmxcj4g5cqwnh52srnnr9  10.461548 2025-03-22 13:39:05\n",
      "4  3eb78ab7ab43b506d3031e2e055700273a2a5d99e6d6ff...  bc1q89vsdpdjntzqm6g06p9el3808l9ezeqetdgqqg  bc1q47pfu4ymsdpjranzucmxcj4g5cqwnh52srnnr9  10.425778 2025-03-22 13:39:05\n",
      "<class 'pandas.core.frame.DataFrame'>\n",
      "RangeIndex: 35 entries, 0 to 34\n",
      "Data columns (total 5 columns):\n",
      " #   Column       Non-Null Count  Dtype         \n",
      "---  ------       --------------  -----         \n",
      " 0   txn_hash     35 non-null     object        \n",
      " 1   from_wallet  35 non-null     object        \n",
      " 2   to_wallet    35 non-null     object        \n",
      " 3   amount       35 non-null     float64       \n",
      " 4   datetime     35 non-null     datetime64[ns]\n",
      "dtypes: datetime64[ns](1), float64(1), object(3)\n",
      "memory usage: 1.5+ KB\n",
      "None\n"
     ]
    },
    {
     "name": "stderr",
     "output_type": "stream",
     "text": [
      "<ipython-input-16-48bb5f4b8395>:14: UserWarning: Could not infer format, so each element will be parsed individually, falling back to `dateutil`. To ensure parsing is consistent and as-expected, please specify a format.\n",
      "  whale_df['datetime'] = pd.to_datetime(whale_df['datetime']);\n"
     ]
    }
   ],
   "source": [
    "whale_txn = [];\n",
    "\n",
    "for txn in block_data['tx']:\n",
    "    btc_amount = sum(out['value'] for out in txn['out']) / 1e8;\n",
    "    if btc_amount > 10:\n",
    "        whale_txn.append({\n",
    "            'txn_hash' : txn['hash'],\n",
    "            'from_wallet' : txn['inputs'][0]['prev_out']['addr'] if txn['inputs'] else 'unknown',\n",
    "            'to_wallet' : txn['out'][0]['addr'] if txn['out'] else 'unknown',\n",
    "            'amount' : btc_amount,\n",
    "            'datetime' : datetime.now().strftime('%H:%M:%S'),\n",
    "        })\n",
    "whale_df = pd.DataFrame(whale_txn);\n",
    "whale_df['datetime'] = pd.to_datetime(whale_df['datetime']);\n",
    "print(whale_df.head());\n",
    "print(whale_df.info());"
   ]
  },
  {
   "cell_type": "code",
   "execution_count": null,
   "metadata": {},
   "outputs": [],
   "source": []
  }
 ],
 "metadata": {
  "kernelspec": {
   "display_name": "Python 3",
   "language": "python",
   "name": "python3"
  },
  "language_info": {
   "codemirror_mode": {
    "name": "ipython",
    "version": 3
   },
   "file_extension": ".py",
   "mimetype": "text/x-python",
   "name": "python",
   "nbconvert_exporter": "python",
   "pygments_lexer": "ipython3",
   "version": "3.9.1"
  }
 },
 "nbformat": 4,
 "nbformat_minor": 2
}
